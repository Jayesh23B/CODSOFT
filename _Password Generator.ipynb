{
 "cells": [
  {
   "cell_type": "code",
   "execution_count": null,
   "id": "b507cca3-46cc-4914-a2e6-aa9a933acd6f",
   "metadata": {},
   "outputs": [],
   "source": [
    "import random\n",
    "import string\n",
    "\n",
    "def generate_password(length):\n",
    "    \n",
    "    \n",
    "    characters = string.ascii_letters + string.digits+ string.punctuation\n",
    "\n",
    "    \n",
    "    password = ''.join(random.choice(characters)for _ in range(length))\n",
    "\n",
    "    return password\n",
    "\n",
    "def main():\n",
    "    try:\n",
    "        \n",
    "        length = int(input('How many characters would you like your password to be? '))\n",
    "\n",
    "        if length <= 0:\n",
    "            print(\" Password length should be a positive integer.\")\n",
    "        else:\n",
    "            \n",
    "            \n",
    "            password=generate_password(length)\n",
    "            print(\"Your generated password is:\",password)\n",
    "    except ValueError:\n",
    "        print(\"Invalid input. Please enter a valid positive integer for the password length. \")\n",
    "        \n",
    "if __name__ == \"__main__\":\n",
    "    main()        \n"
   ]
  }
 ],
 "metadata": {
  "kernelspec": {
   "display_name": "Python 3 (ipykernel)",
   "language": "python",
   "name": "python3"
  },
  "language_info": {
   "codemirror_mode": {
    "name": "ipython",
    "version": 3
   },
   "file_extension": ".py",
   "mimetype": "text/x-python",
   "name": "python",
   "nbconvert_exporter": "python",
   "pygments_lexer": "ipython3",
   "version": "3.12.2"
  }
 },
 "nbformat": 4,
 "nbformat_minor": 5
}
